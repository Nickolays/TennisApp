{
 "cells": [
  {
   "cell_type": "code",
   "execution_count": null,
   "metadata": {},
   "outputs": [],
   "source": []
  },
  {
   "cell_type": "code",
   "execution_count": null,
   "metadata": {},
   "outputs": [],
   "source": [
    "# Look all Court Datasets\n",
    "# Look all Ball Datasets\n",
    "# Look all Players Datasets"
   ]
  },
  {
   "cell_type": "markdown",
   "metadata": {},
   "source": [
    "DATASETS:\n",
    "\n",
    "- https://github.com/hgupt3/TRACE\n",
    "\n",
    "1. https://universe.roboflow.com/tennistracker-dogbm/tennis-court-detection     # Court ds\n",
    "2. https://universe.roboflow.com/tenniscourt/tennisoutin                        # Court ds\n",
    "3. https://universe.roboflow.com/demo-9u4ue/tennis-court-racket/dataset/1       # Court ds\n",
    "4. https://universe.roboflow.com/alex-vdfww/tennis-pjc7p                        # Court ds\n",
    "\n",
    "- https://universe.roboflow.com/tennis-3ll0a/tennis-ball-icifx\n",
    "- https://universe.roboflow.com/tennistracker-dogbm/tennis-tracker-duufq/dataset/17\n",
    "- https://universe.roboflow.com/deep-hbapi/tennis-yfcgx\n",
    "\n",
    "- https://universe.roboflow.com/mark-gaskin-hnlpq/tennis-players-0mje8\n",
    "- https://www.kaggle.com/code/cuauhtemoccontreras/tennis-ball-detection/input  # Ball detect\n",
    "- https://nycu1-my.sharepoint.com/personal/tik_m365_nycu_edu_tw/_layouts/15/onedrive.aspxid=%2Fpersonal%2Ftik%5Fm365%5Fnycu%5Fedu%5Ftw%2FDocuments%2FOpenDataset%2FTrackNet%5FTennis%2FDataset%2Ezip&parent=%2Fpersonal%2Ftik%5Fm365%5Fnycu%5Fedu%5Ftw%2FDocuments%2FOpenDataset%2FTrackNet%5FTennis&ga=1\n",
    "\n"
   ]
  },
  {
   "cell_type": "code",
   "execution_count": null,
   "metadata": {},
   "outputs": [],
   "source": []
  },
  {
   "cell_type": "code",
   "execution_count": null,
   "metadata": {},
   "outputs": [],
   "source": []
  }
 ],
 "metadata": {
  "language_info": {
   "name": "python"
  }
 },
 "nbformat": 4,
 "nbformat_minor": 2
}
